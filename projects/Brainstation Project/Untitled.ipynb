{
 "cells": [
  {
   "cell_type": "code",
   "execution_count": null,
   "id": "0e34a60e-fd81-40df-9163-d113905a2259",
   "metadata": {},
   "outputs": [],
   "source": [
    "#cookie unique for advertiser?\n",
    "bids.groupby(['domain'])['bid_cpm'].size().sort_values(ascending = False).head(10)"
   ]
  },
  {
   "cell_type": "code",
   "execution_count": null,
   "id": "33b5ddba-9944-4353-b6a0-8da7a148738f",
   "metadata": {},
   "outputs": [],
   "source": [
    "#cookie unique per domain?\n",
    "bids.groupby(['domain'])['cookie'].nunique().sort_values(ascending = False).head(10)"
   ]
  }
 ],
 "metadata": {
  "kernelspec": {
   "display_name": "Python 3",
   "language": "python",
   "name": "python3"
  },
  "language_info": {
   "codemirror_mode": {
    "name": "ipython",
    "version": 3
   },
   "file_extension": ".py",
   "mimetype": "text/x-python",
   "name": "python",
   "nbconvert_exporter": "python",
   "pygments_lexer": "ipython3",
   "version": "3.8.8"
  }
 },
 "nbformat": 4,
 "nbformat_minor": 5
}
